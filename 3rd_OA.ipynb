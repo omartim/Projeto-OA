{
 "cells": [
  {
   "cell_type": "code",
   "execution_count": null,
   "id": "6136e752",
   "metadata": {},
   "outputs": [],
   "source": [
    "import numpy as np\n",
    "import matplotlib.pyplot as plt"
   ]
  },
  {
   "cell_type": "code",
   "execution_count": null,
   "id": "610c007a",
   "metadata": {},
   "outputs": [],
   "source": [
    "datasets = []\n",
    "for i in range(1, 5):\n",
    "    d = np.load(f\"dataset{i}.npy\")\n",
    "    if d.shape == (2, 10):\n",
    "        d = d.T\n",
    "    datasets.append(d)"
   ]
  },
  {
   "cell_type": "code",
   "execution_count": null,
   "id": "0ffd38ef",
   "metadata": {},
   "outputs": [],
   "source": [
    "P = len(datasets)\n",
    "N = datasets[0].shape[0]"
   ]
  },
  {
   "cell_type": "code",
   "execution_count": null,
   "id": "0e187672",
   "metadata": {},
   "outputs": [],
   "source": [
    "#a_p e b_p\n",
    "A_list, b_list = [], []\n",
    "for data in datasets:\n",
    "    Ap = np.hstack([np.ones((N, 1)), -2 * data])\n",
    "    bp = -np.sum(data**2, axis=1, keepdims=True)\n",
    "    A_list.append(Ap)\n",
    "    b_list.append(bp)"
   ]
  },
  {
   "cell_type": "code",
   "execution_count": null,
   "id": "1febed82",
   "metadata": {},
   "outputs": [],
   "source": [
    "#parameters do alm e bcd\n",
    "c = 100\n",
    "eps_ALM = 0.01\n",
    "eps_BCD = 0.01"
   ]
  },
  {
   "cell_type": "code",
   "execution_count": null,
   "id": "0e3a1b90",
   "metadata": {},
   "outputs": [],
   "source": [
    "x0 = np.zeros((3, 1))\n",
    "xp = [np.zeros((3, 1)) for _ in range(P)]\n",
    "lambdas = [np.zeros((3, 1)) for _ in range(P)]"
   ]
  },
  {
   "cell_type": "code",
   "execution_count": null,
   "id": "e7ddd10d",
   "metadata": {
    "lines_to_next_cell": 1
   },
   "outputs": [],
   "source": [
    "max_violation_hist = []\n",
    "bcd_iters_per_alm = []"
   ]
  },
  {
   "cell_type": "code",
   "execution_count": null,
   "id": "a5e51692",
   "metadata": {
    "lines_to_next_cell": 1
   },
   "outputs": [],
   "source": [
    "#funcs auxiliares\n",
    "def solve_local_agent(Ap, bp, x0_prev, lambdap, c):\n",
    "    lhs = 2 * Ap.T @ Ap + c * np.eye(3)\n",
    "    rhs = 2 * Ap.T @ bp + lambdap + c * x0_prev\n",
    "    return np.linalg.solve(lhs, rhs)"
   ]
  },
  {
   "cell_type": "code",
   "execution_count": null,
   "id": "c6ce984b",
   "metadata": {
    "lines_to_next_cell": 1
   },
   "outputs": [],
   "source": [
    "def solve_server(u_list, lambdas, c):\n",
    "    P = len(u_list)\n",
    "    term = np.sum([c * u_list[p] - lambdas[p] for p in range(P)], axis=0)\n",
    "    return term / (P * c)"
   ]
  },
  {
   "cell_type": "code",
   "execution_count": null,
   "id": "f4e84faa",
   "metadata": {
    "lines_to_next_cell": 1
   },
   "outputs": [],
   "source": [
    "def compute_violation(x0, xp):\n",
    "    norms = [np.linalg.norm(x0 - xpi) / (np.linalg.norm(x0) + 1e-12) for xpi in xp]\n",
    "    return max(norms)"
   ]
  },
  {
   "cell_type": "code",
   "execution_count": null,
   "id": "e9c10d98",
   "metadata": {},
   "outputs": [],
   "source": [
    "#loop principal do alm\n",
    "max_ALM_iters = 50\n",
    "for k in range(1, max_ALM_iters + 1):\n",
    "    u0_prev = x0.copy()\n",
    "    m = 1\n",
    "    while True:\n",
    "        u_list = [solve_local_agent(A_list[p], b_list[p], u0_prev, lambdas[p], c) for p in range(P)]\n",
    "        u0_new = solve_server(u_list, lambdas, c)\n",
    "        if np.linalg.norm(u0_new - u0_prev) <= eps_BCD:\n",
    "            break\n",
    "        u0_prev = u0_new\n",
    "        m += 1\n",
    "    x0 = u0_new\n",
    "    xp = u_list\n",
    "    bcd_iters_per_alm.append(m)\n",
    "    for p in range(P):\n",
    "        lambdas[p] = lambdas[p] + c * (x0 - xp[p])\n",
    "    violation = compute_violation(x0, xp)\n",
    "    max_violation_hist.append(violation)\n",
    "    if violation <= eps_ALM:\n",
    "        break"
   ]
  },
  {
   "cell_type": "code",
   "execution_count": null,
   "id": "e77d6f3d",
   "metadata": {},
   "outputs": [],
   "source": [
    "#final results\n",
    "y, cx, cy = x0.flatten()\n",
    "cFL = np.array([cx, cy])\n",
    "RFL = np.sqrt(np.linalg.norm(cFL)**2 - y)"
   ]
  },
  {
   "cell_type": "code",
   "execution_count": null,
   "id": "d454b96f",
   "metadata": {},
   "outputs": [],
   "source": [
    "print(f\"Centro federado: c_FL = ({cFL[0]:.2f}, {cFL[1]:.2f})\")\n",
    "print(f\"Raio federado:   R_FL = {RFL:.2f}\")\n",
    "print(f\"Nº iterações ALM: {k}\")\n",
    "print(f\"BCD por ALM: {bcd_iters_per_alm}\")"
   ]
  },
  {
   "cell_type": "code",
   "execution_count": null,
   "id": "237ff166",
   "metadata": {},
   "outputs": [],
   "source": [
    "theta = np.linspace(0, 2 * np.pi, 200)"
   ]
  },
  {
   "cell_type": "code",
   "execution_count": null,
   "id": "8871b3de",
   "metadata": {},
   "outputs": [],
   "source": [
    "plt.figure(figsize=(8, 6))\n",
    "colors = [\"tab:blue\", \"tab:orange\", \"tab:green\", \"tab:red\"]"
   ]
  },
  {
   "cell_type": "code",
   "execution_count": null,
   "id": "1024cf35",
   "metadata": {},
   "outputs": [],
   "source": [
    "for p, data in enumerate(datasets):\n",
    "    plt.scatter(data[:, 0], data[:, 1], color=colors[p], s=25, label=f\"Dataset of agent {p+1}\")\n",
    "    A_loc, b_loc = A_list[p], b_list[p]\n",
    "    x_ls, *_ = np.linalg.lstsq(A_loc, b_loc, rcond=None)\n",
    "    y_ls, cx_ls, cy_ls = x_ls.flatten()\n",
    "    R_ls = np.sqrt(np.linalg.norm([cx_ls, cy_ls])**2 - y_ls)\n",
    "    x_circ = cx_ls + R_ls * np.cos(theta)\n",
    "    y_circ = cy_ls + R_ls * np.sin(theta)\n",
    "    plt.plot(x_circ, y_circ, linestyle=\"--\", color=colors[p], alpha=0.7)"
   ]
  },
  {
   "cell_type": "code",
   "execution_count": null,
   "id": "7658f73c",
   "metadata": {},
   "outputs": [],
   "source": [
    "x_circ_FL = cFL[0] + RFL * np.cos(theta)\n",
    "y_circ_FL = cFL[1] + RFL * np.sin(theta)\n",
    "plt.plot(x_circ_FL, y_circ_FL, \"k\", linewidth=2, label=\"FL fitted circle\")"
   ]
  },
  {
   "cell_type": "code",
   "execution_count": null,
   "id": "2f4fac42",
   "metadata": {
    "lines_to_next_cell": 2
   },
   "outputs": [],
   "source": [
    "plt.xlabel(\"x\")\n",
    "plt.ylabel(\"y\")\n",
    "plt.title(\"The four local datasets and the corresponding four local circles\\nand the FL fitted circle\")\n",
    "plt.legend()\n",
    "plt.axis(\"equal\")\n",
    "plt.grid(True)\n",
    "plt.tight_layout()\n",
    "plt.savefig(r\"C:\\Users\\User1\\Downloads\\task11_circles.pdf\", bbox_inches=\"tight\", format=\"pdf\")\n",
    "plt.show()"
   ]
  },
  {
   "cell_type": "code",
   "execution_count": null,
   "id": "3294218a",
   "metadata": {},
   "outputs": [],
   "source": [
    "plt.figure()\n",
    "ks = range(1, len(max_violation_hist) + 1)\n",
    "plt.semilogy(ks, max_violation_hist, marker=\"o\")\n",
    "plt.xlabel(\"ALM iteration (k)\")\n",
    "plt.ylabel(\"max(||x0 - xp|| / ||x0||) over agents\")\n",
    "plt.title(\"Maximum constraint violation across ALM iterations\")\n",
    "plt.grid(True, which=\"both\")\n",
    "plt.tight_layout()\n",
    "plt.savefig(r\"C:\\Users\\User1\\Downloads\\task11_convergence.pdf\", bbox_inches=\"tight\", format=\"pdf\")\n",
    "plt.show()"
   ]
  }
 ],
 "metadata": {
  "jupytext": {
   "cell_metadata_filter": "-all",
   "main_language": "python",
   "notebook_metadata_filter": "-all"
  }
 },
 "nbformat": 4,
 "nbformat_minor": 5
}
